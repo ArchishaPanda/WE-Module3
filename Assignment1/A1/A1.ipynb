{
  "nbformat": 4,
  "nbformat_minor": 0,
  "metadata": {
    "colab": {
      "provenance": []
    },
    "kernelspec": {
      "name": "python3",
      "display_name": "Python 3"
    },
    "language_info": {
      "name": "python"
    }
  },
  "cells": [
    {
      "cell_type": "code",
      "execution_count": null,
      "metadata": {
        "id": "cA6-JWq5tn4c"
      },
      "outputs": [],
      "source": [
        "from datetime import datetime\n",
        "\n",
        "def to_julian_1(date_str):\n",
        "    # Define possible date formats for parsing the input string\n",
        "    date_formats = [\n",
        "        \"%d/%m/%Y\",  # dd/mm/yyyy\n",
        "        \"%d %b %Y\",  # dd MMM yyyy\n",
        "        \"%d %B, %Y\"  # dd MonthName, yyyy\n",
        "    ]\n",
        "\n",
        "    # Try parsing the date string using the defined formats\n",
        "    for fmt in date_formats:\n",
        "        try:\n",
        "            date_obj = datetime.strptime(date_str, fmt)\n",
        "            break\n",
        "        except ValueError:\n",
        "            continue\n",
        "    else:  # If none of the formats work, raise an error\n",
        "        raise ValueError(f\"Date format of '{date_str}' is not supported.\")\n",
        "\n",
        "    # Calculate the day of the year ('ddd')\n",
        "    day_of_year = date_obj.timetuple().tm_yday\n",
        "\n",
        "    # Format the result as 'yyyyddd'\n",
        "    julian_format = int(f\"{date_obj.year}{day_of_year:03d}\")\n",
        "\n",
        "    return julian_format\n"
      ]
    },
    {
      "cell_type": "code",
      "source": [
        "def is_leap_year(year):\n",
        "    \"\"\"\n",
        "    Check if a year is a leap year.\n",
        "    \"\"\"\n",
        "    return year % 4 == 0 and (year % 100 != 0 or year % 400 == 0)\n",
        "\n",
        "def month_days(year, month):\n",
        "    \"\"\"\n",
        "    Get the number of days in a month for a given year.\n",
        "    \"\"\"\n",
        "    if month in {1, 3, 5, 7, 8, 10, 12}:\n",
        "        return 31\n",
        "    elif month in {4, 6, 9, 11}:\n",
        "        return 30\n",
        "    elif month == 2:\n",
        "        return 29 if is_leap_year(year) else 28\n",
        "\n",
        "def to_julian_2(date_str):\n",
        "    # Dictionary to map month names to numbers\n",
        "    month_numbers = {\n",
        "        \"January\": 1, \"February\": 2, \"March\": 3, \"April\": 4,\n",
        "        \"May\": 5, \"June\": 6, \"July\": 7, \"August\": 8,\n",
        "        \"September\": 9, \"October\": 10, \"November\": 11, \"December\": 12,\n",
        "        \"Jan\": 1, \"Feb\": 2, \"Mar\": 3, \"Apr\": 4,\n",
        "        \"Jun\": 6, \"Jul\": 7, \"Aug\": 8, \"Sep\": 9,\n",
        "        \"Oct\": 10, \"Nov\": 11, \"Dec\": 12\n",
        "    }\n",
        "\n",
        "    # Normalize the date string by removing commas and converting to a list\n",
        "    parts = date_str.replace(',', '').split()\n",
        "    if '/' in date_str:\n",
        "      parts = date_str.split('/')\n",
        "\n",
        "    # Try to identify the format and parse the date components\n",
        "    if parts[0].isdigit():  # Likely format is \"dd/mm/yyyy\"\n",
        "        day = int(parts[0])\n",
        "        year = int(parts[2])\n",
        "        # Check if month is a name or a number\n",
        "        if parts[1].isdigit():\n",
        "            month = int(parts[1])\n",
        "        else:\n",
        "            month = month_numbers[parts[1]]\n",
        "    else:  # Likely format is \"dd Month yyyy\"\n",
        "        day = int(parts[0])\n",
        "        month = month_numbers[parts[1]]\n",
        "        year = int(parts[2])\n",
        "\n",
        "    # Adjust for formats like \"30 November, 2012\"\n",
        "    if not day:\n",
        "        day = int(parts[1])\n",
        "        month = month_numbers[parts[0]]\n",
        "        year = int(parts[2])\n",
        "\n",
        "    # Calculate day of the year\n",
        "    month_days = [31, 28, 31, 30, 31, 30, 31, 31, 30, 31, 30, 31]\n",
        "    if is_leap_year(year):\n",
        "        month_days[1] = 29  # February gets an extra day in leap years\n",
        "\n",
        "    day_of_year = sum(month_days[:month-1]) + day\n",
        "\n",
        "    # Format and return the result as 'yyyyddd'\n",
        "    return int(f\"{year}{day_of_year:03d}\")\n"
      ],
      "metadata": {
        "id": "ODImRPeouP4I"
      },
      "execution_count": null,
      "outputs": []
    },
    {
      "cell_type": "code",
      "source": [
        "# Test cases\n",
        "assert to_julian_2(\"12/01/1972\") == 1972012\n",
        "assert to_julian_2(\"14 Feb 2001\") == 2001045\n",
        "assert to_julian_2(\"30 November, 2012\") == 2012335\n",
        "assert to_julian_2(\"1 January 2024\") == 2024001\n",
        "assert to_julian_2(\"15 March, 1988\") == 1988075\n",
        "\n",
        "print(\"All test cases passed!\")  # This will only print if all assertions pass\n"
      ],
      "metadata": {
        "colab": {
          "base_uri": "https://localhost:8080/"
        },
        "id": "88wFVKUwv3kY",
        "outputId": "d38e8f63-530a-464c-bc4f-2be7cc2d93f5"
      },
      "execution_count": null,
      "outputs": [
        {
          "output_type": "stream",
          "name": "stdout",
          "text": [
            "All test cases passed!\n"
          ]
        }
      ]
    }
  ]
}